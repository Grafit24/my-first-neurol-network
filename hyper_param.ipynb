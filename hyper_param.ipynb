{
 "metadata": {
  "language_info": {
   "codemirror_mode": {
    "name": "ipython",
    "version": 3
   },
   "file_extension": ".py",
   "mimetype": "text/x-python",
   "name": "python",
   "nbconvert_exporter": "python",
   "pygments_lexer": "ipython3",
   "version": 3
  },
  "orig_nbformat": 2
 },
 "nbformat": 4,
 "nbformat_minor": 2,
 "cells": [
  {
   "cell_type": "code",
   "execution_count": null,
   "metadata": {},
   "outputs": [],
   "source": [
    "def hyper_param_setting(training_data, valid_data, random_state, net_architecture, **sgd_params):\n",
    "    main_param = {}\n",
    "    for key, value in sgd_params.items():\n",
    "        if (type(value) is list) or \\\n",
    "           (type(value) is tuple) or \\\n",
    "           (type(value) is np.ndarray):\n",
    "           sgd_params.pop(key)\n",
    "           main_param.update({key:value})\n",
    "           print(f\"Training by: {key}\")\n",
    "           break\n",
    "\n",
    "    recreate_sgd_params = [{**sgd_params, key:value} for value in \\\n",
    "        list(main_param.values())[0]]\n",
    "\n",
    "    results = []\n",
    "    nets = []\n",
    "    for params in recreate_sgd_params:\n",
    "        nn = net.Network(net_architecture, random_state=random_state)\n",
    "        res = nn.SGD(training_data=training_data, evaluation_data=valid_data, **params)\n",
    "        results.append(res)\n",
    "        nets.append(nn)\n",
    "\n",
    "    return results, list(main_param.items())[0], nets"
   ]
  },
  {
   "cell_type": "code",
   "execution_count": null,
   "metadata": {},
   "outputs": [],
   "source": [
    "def comparing_hyper_params(hyper_param, accuracy_and_cost_results, figsize=(10, 5)):\n",
    "    hp = hyper_param[0]\n",
    "    values = hyper_param[1]\n",
    "    fig, (ax1, ax2) = plt.subplots(nrows=1, ncols=2)\n",
    "    fig.set_size_inches(figsize)\n",
    "    for acc, cf in accuracy_and_cost_results:\n",
    "        ax1.plot(acc)\n",
    "        ax2.plot(cf)\n",
    "\n",
    "    for ax in (ax1, ax2):\n",
    "        ax.spines[\"right\"].set_visible(False)    \n",
    "        ax.spines[\"top\"].set_visible(False)\n",
    "        ax.tick_params(bottom=False, left=False)\n",
    "        ax.legend([f\"{hp}={value}\" for value in values])\n",
    "        \n",
    "    ax1.set_title(\"Accuracy\")\n",
    "    ax2.set_title(\"Mean cost function\")\n",
    "\n",
    "    plt.show()"
   ]
  },
  {
   "cell_type": "code",
   "execution_count": null,
   "metadata": {},
   "outputs": [],
   "source": [
    "res = hyper_param_setting(\n",
    "    training_data=train, \n",
    "    valid_data=valid, \n",
    "    random_state=242,\n",
    "    net_architecture=[784, 60, 10],\n",
    "\n",
    "    # SGD params \n",
    "    eta=[0.1, 0.25, 0.5], \n",
    "    mini_batch_size=10, \n",
    "    lmbda=5., \n",
    "    epochs=60,\n",
    "    monitor_evaluation_cost=True, \n",
    "    )\n",
    "comparing_hyper_params(res[1], res[0])"
   ]
  }
 ]
}